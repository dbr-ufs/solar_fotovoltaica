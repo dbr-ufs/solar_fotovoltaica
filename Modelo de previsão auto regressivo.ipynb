{
 "cells": [
  {
   "cell_type": "markdown",
   "id": "5ff547c3-afec-47f5-adcc-b721fae0d935",
   "metadata": {},
   "source": [
    "Modelo de previsão auto regressivo\n",
    "="
   ]
  },
  {
   "cell_type": "markdown",
   "id": "7b0cbe12-5100-4891-9b30-889a4020ff6d",
   "metadata": {},
   "source": [
    "O modelo de previsão auto regressivo utiliza o histórico do sinal de geração para determinar a geração futura."
   ]
  },
  {
   "cell_type": "markdown",
   "id": "81da1867-45d8-4fb9-bbbf-a6de01af8bb0",
   "metadata": {},
   "source": [
    "$$ \\hat{P}_{t+1} = B_{0} + P_{t}B_{1} + P_{t-1}B_{2} + ... + P_{t-l}B_{N} $$\n",
    "$$ \\hat{P}_{t+2} = B_{0} + P_{t}B_{3} + P_{t-1}B_{4} + ... + P_{t-l}B_{N+1} $$\n",
    "$$ \\hat{P}_{t+3} = B_{0} + P_{t}B_{5} + P_{t-1}B_{6} + ... + P_{t-l}B_{N+2} $$\n",
    "$$ \\hat{P}_{t+H} = B_{0} + P_{t}B_{H} + P_{t-1}B_{H+1} + ... + P_{t-l}B_{N+H} $$"
   ]
  },
  {
   "cell_type": "markdown",
   "id": "fbfc5909-f63e-4cef-a12b-b65b9d8ae688",
   "metadata": {},
   "source": [
    "onde $\\hat{P}_{t+H}$ é a previsão de potência no horizonte temporal $H$, $P_{t-N}$ é a potência com atraso $l$ e $B_{N+H}$ é a constante de otimização atrelada ao atraso $l$ para o horizonte temporal $H$. Ou, de outra forma:"
   ]
  },
  {
   "cell_type": "markdown",
   "id": "8e4e6e93-08da-43dd-a150-1f1526bb4400",
   "metadata": {},
   "source": [
    "$$ \\hat{\\textbf{P}}_{t+1} = \\textbf{B} \\textbf{P}_{t-l} $$"
   ]
  },
  {
   "cell_type": "markdown",
   "id": "014a8e8f-304f-428b-8381-5ff2a96d0186",
   "metadata": {},
   "source": [
    "onde $\\hat{\\textbf{P}}_{t+1}$ é o vetor de previsão de potência, $\\textbf{B}$ é o vetor com as constantes de otimização e $\\textbf{P}$ é o vetor com as potências com atraso."
   ]
  },
  {
   "cell_type": "markdown",
   "id": "43f4b509-981c-4c3b-a989-326bb6114a3f",
   "metadata": {},
   "source": [
    "Obtenção das constantes de otimização\n",
    "="
   ]
  },
  {
   "cell_type": "markdown",
   "id": "740618c2-ada5-4e88-9cd2-b4cdc84a4026",
   "metadata": {},
   "source": [
    "Para determinar as constantes de otimização, realiza-se a minimização da função de erro quadrático médio:"
   ]
  },
  {
   "cell_type": "markdown",
   "id": "4948250a-eb5d-4d91-bbd8-be31055d4274",
   "metadata": {},
   "source": [
    "$$ F(B) = \\frac{1}{N} \\sum_{1}^{N} (\\hat{\\textbf{P}} - \\textbf{B}\\textbf{P}_{t-l})^2 $$"
   ]
  },
  {
   "cell_type": "markdown",
   "id": "27459e7e-061f-44df-bbb2-7997ef079977",
   "metadata": {},
   "source": [
    "A determinação do vetor de constantes que minimizam o erro quadrático médio pode ser feita utilizando o método analítico de minimização quadrática:"
   ]
  },
  {
   "cell_type": "markdown",
   "id": "99f692d5-6709-4679-ab63-8fda9b08f4e2",
   "metadata": {},
   "source": [
    "$$ \\textbf{B} = (\\textbf{P}_{t-l}^T \\times \\textbf{P}_{t-l})^{-1} \\times \\textbf{P}_{t-l}^T \\times \\textbf{P}_{t+H} $$"
   ]
  },
  {
   "cell_type": "markdown",
   "id": "f7ccfd33-04c3-410b-a41c-b387e9c4f894",
   "metadata": {},
   "source": [
    "Avaliação da performance\n",
    "="
   ]
  },
  {
   "cell_type": "markdown",
   "id": "e58fc8cf-67ba-4ae1-b3c9-2aa366604b90",
   "metadata": {},
   "source": [
    "Existem diversas ferramentas estatísticas para avaliar a performance do modelo. Aqui, será utilizada a raiz do erro quadrático médio ou root mean squared error (RMSE)."
   ]
  },
  {
   "cell_type": "markdown",
   "id": "4cc09ab8-acb5-4783-b3c0-4d8225090807",
   "metadata": {},
   "source": [
    "$$ RMSE = \\sqrt{\\frac{1}{N}\\sum_{t=1}^{t=N} (P_{t} - \\hat{P}_{t})^2 } $$"
   ]
  },
  {
   "cell_type": "markdown",
   "id": "78ed0224-acee-4802-95ca-bf01a7fdf086",
   "metadata": {},
   "source": [
    "onde $N$ é a quantidade de valores medidos, $P_{t}$ são as medições de potência no momento $t$, e $\\hat{P}_{t}$ são as previsões de potência para o momento $t$."
   ]
  },
  {
   "cell_type": "markdown",
   "id": "2123a6f2-e02b-415c-b3e9-16d1ac829b6a",
   "metadata": {},
   "source": [
    "Implementação do modelo de previsão auto regressivo em octave\n",
    "="
   ]
  },
  {
   "cell_type": "code",
   "execution_count": 1,
   "id": "20ee1e73-4429-4ec0-a125-6fe1fc190456",
   "metadata": {},
   "outputs": [],
   "source": [
    "pkg load dataframe"
   ]
  },
  {
   "cell_type": "code",
   "execution_count": 2,
   "id": "d40872df-234e-484f-a64e-a8a64e9affcc",
   "metadata": {},
   "outputs": [
    {
     "name": "stdout",
     "output_type": "stream",
     "text": [
      "warning: genvarname is obsolete; use matlab.lang.makeValidName or matlab.lang.makeUniqueStrings instead\n"
     ]
    }
   ],
   "source": [
    "data_path = '12kW_Farmácia_Max_01012020-01012021.csv';\n",
    "data_dataframe = dataframe(data_path);\n",
    "#transformando o dataframe em vetor contendo apenas os dados de energia\n",
    "energy_data = str2double(data_dataframe.array(1:20000,2));"
   ]
  },
  {
   "cell_type": "code",
   "execution_count": 3,
   "id": "36565611-64ff-4ed7-8859-a585e52d3058",
   "metadata": {},
   "outputs": [],
   "source": [
    "#tornando os dados NaN em 0\n",
    "# Os dados NaN que aparecem no arquivo aparentam ocorrer apenas em horários em que não há luz do sol.\n",
    "for i = 1:size(energy_data)(1)\n",
    "    if isnan(energy_data(i))\n",
    "        energy_data(i) = 0;\n",
    "    endif\n",
    "endfor"
   ]
  },
  {
   "cell_type": "code",
   "execution_count": 4,
   "id": "e65a28a9-079d-4b33-aa27-e63dfe152a42",
   "metadata": {},
   "outputs": [],
   "source": [
    "horizonte_de_previsao = 1*12; # O intervalo de medição dos dados é de 5 minutos, portanto, 1 hora representa 12 intervalos de medição\n",
    "variaveis_de_atraso = 2; # Quantidade de variáveis no vetor de potências de atraso; A quantidade de constantes de otimização será \n",
    "                         # sempre a quantidade de variáveis de atraso +1"
   ]
  },
  {
   "cell_type": "code",
   "execution_count": 5,
   "id": "4818309c-5fcb-4e71-a3e2-f72aa2d3f790",
   "metadata": {},
   "outputs": [],
   "source": [
    "# A função prev_AR retorna um vetor de tamanho nx1 (onde n é o tamanho do vetor data_prev) contendo a previsão para o horizonte de previsão determinado\n",
    "# O conjunto data_train é utilizado para determinar as constantes de otimização da função de auto-regressão, enquanto que o conjunto data_prev é \n",
    "# utilizado para gerar a previsão futura;\n",
    "function prev = prev_AR(data_train,data_prev,horizonte_de_previsao,atraso_max)\n",
    "    lag_matrix = ones(size(data_train)(1),1);\n",
    "    for i = 0:atraso_max\n",
    "        lag_matrix = [lag_matrix,[zeros(i,1);data_train(1:end-i)]];\n",
    "    endfor\n",
    "\n",
    "    B = inv(transpose(lag_matrix)*lag_matrix)*transpose(lag_matrix)*[data_train(horizonte_de_previsao+1:end);zeros(horizonte_de_previsao,1)];\n",
    "\n",
    "    prev_lag_matrix = ones(size(data_prev)(1),1);\n",
    "    for i = 0:atraso_max\n",
    "        prev_lag_matrix = [prev_lag_matrix,[zeros(i,1);data_prev(1:end-i)]];\n",
    "    endfor\n",
    "\n",
    "    prev = transpose(transpose(B)*transpose(prev_lag_matrix));\n",
    "    return;\n",
    "endfunction"
   ]
  },
  {
   "cell_type": "code",
   "execution_count": 20,
   "id": "e0b58577-734e-40dc-ada9-f480c374c5ca",
   "metadata": {},
   "outputs": [],
   "source": [
    "# Realizando a previsão dos últimos x valores de energia;\n",
    "x = 600;\n",
    "prev = prev_AR(energy_data(1:end-x),energy_data(end-x:end),horizonte_de_previsao,variaveis_de_atraso);"
   ]
  },
  {
   "cell_type": "code",
   "execution_count": 21,
   "id": "5de077e8-ca39-456f-a54d-38a7847d25b5",
   "metadata": {},
   "outputs": [],
   "source": [
    "function RMSE = calc_RMSE(data1,data2)\n",
    "    N = size(data1)(1);\n",
    "    er_sqrd = (data1 - data2).^2;\n",
    "    mse = sum(er_sqrd)/N;\n",
    "    RMSE = sqrt(mse);\n",
    "    return;\n",
    "endfunction"
   ]
  },
  {
   "cell_type": "code",
   "execution_count": 22,
   "id": "62c2019b-5552-4573-bb5d-20eb2262b9bd",
   "metadata": {},
   "outputs": [
    {
     "name": "stdout",
     "output_type": "stream",
     "text": [
      "RMSE = 178.24\n"
     ]
    }
   ],
   "source": [
    "RMSE = calc_RMSE(prev,[energy_data(end-x+horizonte_de_previsao:end);zeros(horizonte_de_previsao,1)])"
   ]
  },
  {
   "cell_type": "markdown",
   "id": "630de74f-4935-49ce-bdfb-7f551c986796",
   "metadata": {},
   "source": [
    "Gráficos\n",
    "="
   ]
  },
  {
   "cell_type": "code",
   "execution_count": 23,
   "id": "33c04549-92dd-4b79-86ff-aad9404a3bc4",
   "metadata": {},
   "outputs": [],
   "source": [
    "function plot_prev(real,prev)\n",
    "    plot(1:size(real)(1),real,\"marker\",\".\",\"markersize\",15,\"linewidth\",1.5,\";Potência real;\",1:size(prev)(1),prev,\"marker\",\".\",\"markersize\",15,\"linewidth\",1.5,\";Potência prevista;\");\n",
    "    xlabel(\"Intervalos de tempo\");\n",
    "    ylabel(\"Energia (Wh)\");\n",
    "    title(\"Gráfico de Potência real x previsão\");\n",
    "endfunction"
   ]
  },
  {
   "cell_type": "code",
   "execution_count": 24,
   "id": "5c5dbcde-364a-430d-ab85-c769c911f0a2",
   "metadata": {},
   "outputs": [
    {
     "data": {
      "image/png": "[encoded data removed]",
      "text/plain": [
       "<IPython.core.display.Image object>"
      ]
     },
     "metadata": {},
     "output_type": "display_data"
    }
   ],
   "source": [
    "plot_prev([energy_data(end-x+horizonte_de_previsao:end);zeros(horizonte_de_previsao,1)],prev(1:x))"
   ]
  },
  {
   "cell_type": "code",
   "execution_count": 26,
   "id": "d95b6476-de3a-43d1-92e3-0816f3d6b240",
   "metadata": {},
   "outputs": [],
   "source": [
    "function plot_rmses(RMSEs)\n",
    "    plot(1:size(RMSEs)(1)+1,RMSEs,\"marker\",\".\",\"linewidth\",1.5,\"markersize\",15,\";RMSE;\");    \n",
    "    xlabel(\"Horizonte temporal\");\n",
    "    ylabel(\"RMSE (Wh)\");\n",
    "    title(\"Gráfico de erro\");\n",
    "endfunction"
   ]
  },
  {
   "cell_type": "code",
   "execution_count": 27,
   "id": "ab0e606f-0adc-4d41-af07-0ccef843475d",
   "metadata": {},
   "outputs": [
    {
     "name": "stdout",
     "output_type": "stream",
     "text": [
      "error: 'RMSEs' undefined near line 1, column 12\n"
     ]
    }
   ],
   "source": [
    "#plot_rmses(RMSEs)"
   ]
  }
 ],
 "metadata": {
  "kernelspec": {
   "display_name": "Octave",
   "language": "octave",
   "name": "octave"
  },
  "language_info": {
   "file_extension": ".m",
   "help_links": [
    {
     "text": "GNU Octave",
     "url": "https://www.gnu.org/software/octave/support.html"
    },
    {
     "text": "Octave Kernel",
     "url": "https://github.com/Calysto/octave_kernel"
    },
    {
     "text": "MetaKernel Magics",
     "url": "https://metakernel.readthedocs.io/en/latest/source/README.html"
    }
   ],
   "mimetype": "text/x-octave",
   "name": "octave",
   "version": "10.1.0"
  }
 },
 "nbformat": 4,
 "nbformat_minor": 5
}
